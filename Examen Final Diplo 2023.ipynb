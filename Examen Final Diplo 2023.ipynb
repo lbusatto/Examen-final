{
 "cells": [
  {
   "cell_type": "markdown",
   "id": "0c636b70-2c89-4bb1-88c4-36fdb6d1e0e9",
   "metadata": {},
   "source": [
    "<img src=\"https://uade.edu.ar/media/z3sesiag/uade_una_gran_universidad.png\" alt=\"drawing\" style=\"width:200px;\"/>\n",
    "\n",
    "# Examen Final Diplomatura en Ciencia de Datos 2023\n",
    "\n",
    "A continuación, se detallan las indicaciones generales para la resolución del examen. Tenga a bien leer todas las instrucciones y no dude en consultar si tiene alguna duda.\n",
    "\n",
    "1. El examen se realiza de forma grupal de acuerdo a la asignación previamente realizada (Grupo 1, Grupo 2, Grupo 3)\n",
    "\n",
    "2. La fecha de entrega de trabajo es el viernes 1 de Diciembre a las **19:00 hs** (Argentina)\n",
    "\n",
    "3. Tanto el código como el análisis y las visualizaciones se deben entregan en un notebook en formato `.ipynb.` Los datasets generados se deben entregar en formato comprimido o disponibilizarlos en un repositorio online (ej. Google Drive) y compartir el link. El nombre el notebook debe seguir la nomenclatura siguiente: \\\"Grupo#_Examen_Final_DiploDS.ipynb\\\"\n",
    "\n",
    "4. Puede utilizar diferentes herramientas para el desarrollo como `Jupyter`, `Colab`, `Spypder` o `VSCodium`, sin embargo, el trabajo final debe ser entregado en un notebook como estipulado en el punto 3. Este Notebook presenta un modelo de los puntos a utilizar. Puede usarse como template o elegir otro formato, pero se debe contar con los puntos indicados: carga de datos, EDA, división de los sets de datos, cross-validation, entrenamiento, evaluación y conclusiones\n",
    "\n",
    "5. Para visualizaciones durante el desarrollo del EDA se deben usar librerías matplotlib y seaborn, siendo las visualizaciones finales a exponer desarrolladas en Tableau, PowerBI u otra herramienta de BI\n",
    "\n",
    "6. La defensa del trabajo se realizará el **Lunes 4 de Diciembre de forma grupal y presencial**. Se les brindará un espacio de 25 a 30 minutos para la exposición y luego un espacio a preguntas. Se evaluará la claridad en la exposición, cohesión de la misma y la estructura completa. Deberán estar disponibles para responder preguntas sobre el código y el desarrollo del notebook además de la exposición.\n",
    "\n",
    "7. La nota se obtendrá en base a un promedio entre el desarrollo del trabajo, defensa del mismo en forma grupal y exposición individual\n",
    "\n",
    "Como parte del examen se evaluarán los siguientes conceptos:\n",
    "* Importar datos desde fuentes externas\n",
    "* Limpieza de datos\n",
    "* Gestión de datos y transformaciones\n",
    "* Modelado de datos \n",
    "* Visualizaciones\n",
    "* Selección de variables\n",
    "* Feature engineering\n",
    "* Manejo de sets de entranamiento y validación\n",
    "* Cross validation\n",
    "* Entrenamiento del modelo\n",
    "* Interpretación de resultados e indicadores\n",
    "* Almacenamiento de resultados"
   ]
  },
  {
   "cell_type": "markdown",
   "id": "8c847b9c-3636-4c26-8aee-6c164f3a4672",
   "metadata": {},
   "source": [
    "## Consigna del Examen\n",
    "\n",
    "Como parte del equipo de datos de una EdTech se les requiere dar soporte a una conocida Universidad para entender por qué los alumnos tienen éxito o fracasan en su plan de carrera. Esta es una gran oportunidad para generar lazos con entidades y organizaciones de mayor importancia y despegar como startup. No está confirmado, pero hay un rumor de qué otras empresas estarán participando en busca de los mismos resultados.\n",
    "\n",
    "El objetivo presentado por la Universidad es poder predecir si un alumno/a se graduará, se mantendrá o abandonará la cursada. En palabras del CDAO\n",
    "\n",
    "*\"Hoy el mercado universitario es muy competitivo, incluso tenemos amenazas de otros sectores que nos 'canibalizan' parte del alumnado. Necesitamos actuar pronto para comprender los motivos y los perfiles que llevan a un/a alumno/a a continuar o abandonar para poder gestionar mejor las campañas y las acciones. Especialmente queremos enfocar en la retención, porque nos cuesta mucho dinero perder un/a alumno/a\"*\n",
    "\n",
    "Se solicita presentar en una sesión de 30 minutos el entendimiento del problema y los resultados obtenidos, así como recomendaciones de acción para la Universidad. La presentación debe estar orientada a un nivel de Director (conocimiento técnico pero interés comercial). La presentación debe contener soporte gráfico (visualizaciones o Dashboards de BI) que refuercen el mensaje.\n",
    "El equipo que estará presente en la exposición está compuesto por\n",
    "* Director de Arquitectura de Datos\n",
    "* Director de Analítica y Ciencia de Datos\n",
    "* Director de Marketing y Relaciones con Alumnos\n",
    "(es posible que el CDAO se sume en la sesión)\n",
    "\n",
    "El Director de Arquitectura de Datos requiere que se le presente un modelo de datos que pueda ser consumible luego desde su arquitectura analítica (la Universidad está construyendo un Datawarehouse) por lo cual requiere que al dataset principal se le sumen entidades de consulta (lookups) y que esto pueda ser consumible desde una herramienta de BI.\n",
    "* Hint: poder presentar un esquema de modelo relacional/estrella que permita comprender la relación entre, por ejemplo, el código 1 en la columna \"attendance\" se pueda visualizar como \"Daytime\"\n",
    "\n",
    "Los archivos a utilizar se encuentran almacenados en la siguiente URL:\n",
    "\n",
    "**Datasets**: `Academic Success and dropout.zip`"
   ]
  },
  {
   "cell_type": "markdown",
   "id": "68707e26-658f-4fa7-9a52-19fc5f3375e3",
   "metadata": {},
   "source": [
    "## Datos del Grupo (Ingrese los datos de los miembros del grupo)\n",
    "\n",
    "Nombre y Apellido | LU\n",
    "------------------|---\n",
    " | \n",
    " | \n",
    " | \n",
    " | \n",
    " | \n",
    " | \n",
    " | \n",
    " \n",
    " "
   ]
  },
  {
   "cell_type": "markdown",
   "id": "962f4483-d2b3-4a5e-82df-b97ba4f023e7",
   "metadata": {},
   "source": [
    "## Importar Librerias"
   ]
  },
  {
   "cell_type": "code",
   "execution_count": null,
   "id": "c15957f5-365e-4939-aeed-2403e3380c98",
   "metadata": {
    "tags": []
   },
   "outputs": [],
   "source": [
    "import numpy as np\n",
    "import pandas as pd\n",
    "import matplotlib.pyplot as plt\n",
    "import seaborn as sns\n",
    "# ..."
   ]
  },
  {
   "cell_type": "code",
   "execution_count": null,
   "id": "11be0e9c-6fe1-43b8-836d-39f1b1b56c3e",
   "metadata": {},
   "outputs": [],
   "source": []
  },
  {
   "cell_type": "code",
   "execution_count": null,
   "id": "2cf07bdd-3370-4caa-b525-0012b53eecc7",
   "metadata": {},
   "outputs": [],
   "source": []
  },
  {
   "cell_type": "markdown",
   "id": "2a9c25dc-896a-4876-aabd-ed66331b76cb",
   "metadata": {},
   "source": [
    "## Carga de datos"
   ]
  },
  {
   "cell_type": "code",
   "execution_count": null,
   "id": "e9660757-115c-450a-9052-d95203d76488",
   "metadata": {
    "tags": []
   },
   "outputs": [],
   "source": []
  },
  {
   "cell_type": "code",
   "execution_count": null,
   "id": "0b2ea735-3a74-4e7f-9824-30e37ce7aa94",
   "metadata": {},
   "outputs": [],
   "source": []
  },
  {
   "cell_type": "code",
   "execution_count": null,
   "id": "764e65b7-f97c-4e38-894d-58d6725f36c8",
   "metadata": {},
   "outputs": [],
   "source": []
  },
  {
   "cell_type": "markdown",
   "id": "21e9af32-16f1-4e47-92fa-a0488ed710d4",
   "metadata": {},
   "source": [
    "## Preparación y análisis de datos (EDA)"
   ]
  },
  {
   "cell_type": "code",
   "execution_count": null,
   "id": "b4423da5-39b1-43b5-b28d-fb659a014e17",
   "metadata": {},
   "outputs": [],
   "source": []
  },
  {
   "cell_type": "code",
   "execution_count": null,
   "id": "1b90af79-42b8-4de9-a3bd-a917fce3d0a6",
   "metadata": {},
   "outputs": [],
   "source": []
  },
  {
   "cell_type": "code",
   "execution_count": null,
   "id": "ae7a635a-687d-4e16-8a3a-d706d783ca89",
   "metadata": {},
   "outputs": [],
   "source": []
  },
  {
   "cell_type": "markdown",
   "id": "b59b8f7a-66ea-4bfb-a95f-5c50d91d295d",
   "metadata": {
    "tags": []
   },
   "source": [
    "## Data split"
   ]
  },
  {
   "cell_type": "code",
   "execution_count": null,
   "id": "21540ace-cb24-418d-9b31-22012307e15e",
   "metadata": {},
   "outputs": [],
   "source": []
  },
  {
   "cell_type": "code",
   "execution_count": null,
   "id": "9c53a61b-4c45-4b18-a838-4907217153ac",
   "metadata": {},
   "outputs": [],
   "source": []
  },
  {
   "cell_type": "code",
   "execution_count": null,
   "id": "d09b055a-72f9-4763-bc78-0f0573f474d3",
   "metadata": {},
   "outputs": [],
   "source": []
  },
  {
   "cell_type": "markdown",
   "id": "6595d1de-25f4-46a7-bae6-fdb8c81aeb31",
   "metadata": {},
   "source": [
    "## Selección de atributos"
   ]
  },
  {
   "cell_type": "code",
   "execution_count": null,
   "id": "f2bca906-d53b-4ef0-be51-ce6d75eba78e",
   "metadata": {},
   "outputs": [],
   "source": []
  },
  {
   "cell_type": "code",
   "execution_count": null,
   "id": "4c407d8d-098a-4c31-a1a0-084a32eb4a12",
   "metadata": {},
   "outputs": [],
   "source": []
  },
  {
   "cell_type": "code",
   "execution_count": null,
   "id": "c4dd6971-07a0-41c4-8f53-5a880e9204a4",
   "metadata": {},
   "outputs": [],
   "source": []
  },
  {
   "cell_type": "markdown",
   "id": "a53ee563-2057-4743-b046-bdeeeffbc68b",
   "metadata": {},
   "source": [
    "## Estandarización"
   ]
  },
  {
   "cell_type": "code",
   "execution_count": null,
   "id": "c807ab0e-bb52-4224-b177-63c5e850f947",
   "metadata": {},
   "outputs": [],
   "source": []
  },
  {
   "cell_type": "code",
   "execution_count": null,
   "id": "ceca78a6-9e1c-4a3f-a1a5-e5fef75bfb56",
   "metadata": {},
   "outputs": [],
   "source": []
  },
  {
   "cell_type": "code",
   "execution_count": null,
   "id": "17b6e9fb-e3a6-4f1e-bd58-443ab90de03f",
   "metadata": {},
   "outputs": [],
   "source": []
  },
  {
   "cell_type": "markdown",
   "id": "c03a8a38-03ef-443a-86c8-1a6635a91ce8",
   "metadata": {
    "tags": []
   },
   "source": [
    "## Cross-Validation"
   ]
  },
  {
   "cell_type": "code",
   "execution_count": null,
   "id": "a33cb93b-24ba-46d6-8aa7-e80cde893344",
   "metadata": {},
   "outputs": [],
   "source": []
  },
  {
   "cell_type": "code",
   "execution_count": null,
   "id": "ad779dff-e655-47d2-bac1-2006b2586d44",
   "metadata": {},
   "outputs": [],
   "source": []
  },
  {
   "cell_type": "code",
   "execution_count": null,
   "id": "e36dc299-a991-4ed1-9a1f-17f51cbf279c",
   "metadata": {},
   "outputs": [],
   "source": []
  },
  {
   "cell_type": "markdown",
   "id": "2139337b-6068-470c-a74d-c209345e061d",
   "metadata": {
    "tags": []
   },
   "source": [
    "## Entrenamiento modelo definitivo"
   ]
  },
  {
   "cell_type": "code",
   "execution_count": null,
   "id": "adf80e20-dd02-4ee9-ba7f-40255d35a537",
   "metadata": {},
   "outputs": [],
   "source": []
  },
  {
   "cell_type": "code",
   "execution_count": null,
   "id": "6be2feed-529a-4cf0-80df-cfef1858d490",
   "metadata": {},
   "outputs": [],
   "source": []
  },
  {
   "cell_type": "code",
   "execution_count": null,
   "id": "14a080d2-708d-4258-81bb-72cf51801476",
   "metadata": {},
   "outputs": [],
   "source": []
  },
  {
   "cell_type": "markdown",
   "id": "ed5e561e-974e-4d5a-a054-19e71122d1e4",
   "metadata": {
    "tags": []
   },
   "source": [
    "## Evaluación modelo"
   ]
  },
  {
   "cell_type": "code",
   "execution_count": null,
   "id": "cc231f73-0b62-42ac-b326-6c09369ec887",
   "metadata": {},
   "outputs": [],
   "source": []
  },
  {
   "cell_type": "code",
   "execution_count": null,
   "id": "16023b0d-fa11-457c-b803-aada6d6516cd",
   "metadata": {},
   "outputs": [],
   "source": []
  },
  {
   "cell_type": "code",
   "execution_count": null,
   "id": "e200aa09-3ff9-494f-9ebc-bc55afc0d898",
   "metadata": {},
   "outputs": [],
   "source": []
  },
  {
   "cell_type": "markdown",
   "id": "51cf63b6-2fc7-4f40-ba10-acb6b4e6352d",
   "metadata": {},
   "source": [
    "## Conclusiones"
   ]
  },
  {
   "cell_type": "markdown",
   "id": "4c5c0f35-7a89-495e-a889-5c018b6666b1",
   "metadata": {},
   "source": []
  },
  {
   "cell_type": "code",
   "execution_count": null,
   "id": "c07b46a0-fc2a-44d6-b2e5-80e0b9f49722",
   "metadata": {},
   "outputs": [],
   "source": []
  }
 ],
 "metadata": {
  "kernelspec": {
   "display_name": "Python 3 (ipykernel)",
   "language": "python",
   "name": "python3"
  },
  "language_info": {
   "codemirror_mode": {
    "name": "ipython",
    "version": 3
   },
   "file_extension": ".py",
   "mimetype": "text/x-python",
   "name": "python",
   "nbconvert_exporter": "python",
   "pygments_lexer": "ipython3",
   "version": "3.11.1"
  }
 },
 "nbformat": 4,
 "nbformat_minor": 5
}
