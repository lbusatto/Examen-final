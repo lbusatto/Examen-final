{
  "cells": [
    {
      "cell_type": "markdown",
      "metadata": {
        "id": "view-in-github",
        "colab_type": "text"
      },
      "source": [
        "<a href=\"https://colab.research.google.com/github/lbusatto/Examen-final/blob/main/Examen%20Final%20Diplo%202023.ipynb\" target=\"_parent\"><img src=\"https://colab.research.google.com/assets/colab-badge.svg\" alt=\"Open In Colab\"/></a>"
      ]
    },
    {
      "cell_type": "markdown",
      "id": "0c636b70-2c89-4bb1-88c4-36fdb6d1e0e9",
      "metadata": {
        "id": "0c636b70-2c89-4bb1-88c4-36fdb6d1e0e9"
      },
      "source": [
        "<img src=\"https://uade.edu.ar/media/z3sesiag/uade_una_gran_universidad.png\" alt=\"drawing\" style=\"width:200px;\"/>\n",
        "\n",
        "# Examen Final Diplomatura en Ciencia de Datos 2023\n",
        "\n",
        "A continuación, se detallan las indicaciones generales para la resolución del examen. Tenga a bien leer todas las instrucciones y no dude en consultar si tiene alguna duda.\n",
        "\n",
        "1. El examen se realiza de forma grupal de acuerdo a la asignación previamente realizada (Grupo 1, Grupo 2, Grupo 3)\n",
        "\n",
        "2. La fecha de entrega de trabajo es el viernes 1 de Diciembre a las **19:00 hs** (Argentina)\n",
        "\n",
        "3. Tanto el código como el análisis y las visualizaciones se deben entregan en un notebook en formato `.ipynb.` Los datasets generados se deben entregar en formato comprimido o disponibilizarlos en un repositorio online (ej. Google Drive) y compartir el link. El nombre el notebook debe seguir la nomenclatura siguiente: \\\"Grupo#_Examen_Final_DiploDS.ipynb\\\"\n",
        "\n",
        "4. Puede utilizar diferentes herramientas para el desarrollo como `Jupyter`, `Colab`, `Spypder` o `VSCodium`, sin embargo, el trabajo final debe ser entregado en un notebook como estipulado en el punto 3. Este Notebook presenta un modelo de los puntos a utilizar. Puede usarse como template o elegir otro formato, pero se debe contar con los puntos indicados: carga de datos, EDA, división de los sets de datos, cross-validation, entrenamiento, evaluación y conclusiones\n",
        "\n",
        "5. Para visualizaciones durante el desarrollo del EDA se deben usar librerías matplotlib y seaborn, siendo las visualizaciones finales a exponer desarrolladas en Tableau, PowerBI u otra herramienta de BI\n",
        "\n",
        "6. La defensa del trabajo se realizará el **Lunes 4 de Diciembre de forma grupal y presencial**. Se les brindará un espacio de 25 a 30 minutos para la exposición y luego un espacio a preguntas. Se evaluará la claridad en la exposición, cohesión de la misma y la estructura completa. Deberán estar disponibles para responder preguntas sobre el código y el desarrollo del notebook además de la exposición.\n",
        "\n",
        "7. La nota se obtendrá en base a un promedio entre el desarrollo del trabajo, defensa del mismo en forma grupal y exposición individual\n",
        "\n",
        "Como parte del examen se evaluarán los siguientes conceptos:\n",
        "* Importar datos desde fuentes externas\n",
        "* Limpieza de datos\n",
        "* Gestión de datos y transformaciones\n",
        "* Modelado de datos\n",
        "* Visualizaciones\n",
        "* Selección de variables\n",
        "* Feature engineering\n",
        "* Manejo de sets de entranamiento y validación\n",
        "* Cross validation\n",
        "* Entrenamiento del modelo\n",
        "* Interpretación de resultados e indicadores\n",
        "* Almacenamiento de resultados"
      ]
    },
    {
      "cell_type": "markdown",
      "id": "8c847b9c-3636-4c26-8aee-6c164f3a4672",
      "metadata": {
        "id": "8c847b9c-3636-4c26-8aee-6c164f3a4672"
      },
      "source": [
        "## Consigna del Examen\n",
        "\n",
        "Como parte del equipo de datos de una EdTech se les requiere dar soporte a una conocida Universidad para entender por qué los alumnos tienen éxito o fracasan en su plan de carrera. Esta es una gran oportunidad para generar lazos con entidades y organizaciones de mayor importancia y despegar como startup. No está confirmado, pero hay un rumor de qué otras empresas estarán participando en busca de los mismos resultados.\n",
        "\n",
        "El objetivo presentado por la Universidad es poder predecir si un alumno/a se graduará, se mantendrá o abandonará la cursada. En palabras del CDAO\n",
        "\n",
        "*\"Hoy el mercado universitario es muy competitivo, incluso tenemos amenazas de otros sectores que nos 'canibalizan' parte del alumnado. Necesitamos actuar pronto para comprender los motivos y los perfiles que llevan a un/a alumno/a a continuar o abandonar para poder gestionar mejor las campañas y las acciones. Especialmente queremos enfocar en la retención, porque nos cuesta mucho dinero perder un/a alumno/a\"*\n",
        "\n",
        "Se solicita presentar en una sesión de 30 minutos el entendimiento del problema y los resultados obtenidos, así como recomendaciones de acción para la Universidad. La presentación debe estar orientada a un nivel de Director (conocimiento técnico pero interés comercial). La presentación debe contener soporte gráfico (visualizaciones o Dashboards de BI) que refuercen el mensaje.\n",
        "El equipo que estará presente en la exposición está compuesto por\n",
        "* Director de Arquitectura de Datos\n",
        "* Director de Analítica y Ciencia de Datos\n",
        "* Director de Marketing y Relaciones con Alumnos\n",
        "(es posible que el CDAO se sume en la sesión)\n",
        "\n",
        "El Director de Arquitectura de Datos requiere que se le presente un modelo de datos que pueda ser consumible luego desde su arquitectura analítica (la Universidad está construyendo un Datawarehouse) por lo cual requiere que al dataset principal se le sumen entidades de consulta (lookups) y que esto pueda ser consumible desde una herramienta de BI.\n",
        "* Hint: poder presentar un esquema de modelo relacional/estrella que permita comprender la relación entre, por ejemplo, el código 1 en la columna \"attendance\" se pueda visualizar como \"Daytime\"\n",
        "\n",
        "Los archivos a utilizar se encuentran almacenados en la siguiente URL:\n",
        "\n",
        "**Datasets**: `Academic Success and dropout.zip`"
      ]
    },
    {
      "cell_type": "markdown",
      "id": "68707e26-658f-4fa7-9a52-19fc5f3375e3",
      "metadata": {
        "id": "68707e26-658f-4fa7-9a52-19fc5f3375e3"
      },
      "source": [
        "## Datos del Grupo (Ingrese los datos de los miembros del grupo)\n",
        "\n",
        "Nombre y Apellido | LU\n",
        "------------------|---\n",
        " |\n",
        " |\n",
        " |\n",
        " |\n",
        " |\n",
        " |\n",
        " |\n",
        "\n"
      ]
    },
    {
      "cell_type": "markdown",
      "id": "962f4483-d2b3-4a5e-82df-b97ba4f023e7",
      "metadata": {
        "id": "962f4483-d2b3-4a5e-82df-b97ba4f023e7"
      },
      "source": [
        "## Importar Librerias"
      ]
    },
    {
      "cell_type": "code",
      "execution_count": 1,
      "id": "c15957f5-365e-4939-aeed-2403e3380c98",
      "metadata": {
        "tags": [],
        "id": "c15957f5-365e-4939-aeed-2403e3380c98"
      },
      "outputs": [],
      "source": [
        "import numpy as np\n",
        "import pandas as pd\n",
        "import matplotlib.pyplot as plt\n",
        "import seaborn as sns\n",
        "import os\n",
        "from sklearn import preprocessing\n",
        "from sklearn.preprocessing import MinMaxScaler\n",
        "from sklearn.model_selection import train_test_split\n",
        "from sklearn.preprocessing import LabelBinarizer\n",
        "from sklearn.tree import DecisionTreeClassifier\n",
        "from sklearn.ensemble import RandomForestClassifier\n",
        "from sklearn.metrics import accuracy_score, f1_score, precision_score, recall_score, classification_report\n",
        "# ..."
      ]
    },
    {
      "cell_type": "markdown",
      "id": "2a9c25dc-896a-4876-aabd-ed66331b76cb",
      "metadata": {
        "id": "2a9c25dc-896a-4876-aabd-ed66331b76cb"
      },
      "source": [
        "## Carga de datos"
      ]
    },
    {
      "cell_type": "code",
      "execution_count": 2,
      "id": "11be0e9c-6fe1-43b8-836d-39f1b1b56c3e",
      "metadata": {
        "id": "11be0e9c-6fe1-43b8-836d-39f1b1b56c3e",
        "outputId": "3a30a01d-0e00-44ac-9deb-e3449cf6fc11",
        "colab": {
          "base_uri": "https://localhost:8080/",
          "height": 495
        }
      },
      "outputs": [
        {
          "output_type": "execute_result",
          "data": {
            "text/plain": [
              "     Marital status  Application mode  Application order  Course  \\\n",
              "0                 1              17.0                5.0   171.0   \n",
              "1                 1              15.0                1.0  9254.0   \n",
              "2                 1               1.0                5.0  9070.0   \n",
              "3                 1              17.0                2.0  9773.0   \n",
              "4                 2              39.0                1.0  8014.0   \n",
              "...             ...               ...                ...     ...   \n",
              "4555              1               1.0                6.0  9773.0   \n",
              "4556              1               1.0                2.0  9773.0   \n",
              "4557              1               1.0                1.0  9500.0   \n",
              "4558              1               1.0                1.0  9147.0   \n",
              "4559              1              10.0                1.0  9773.0   \n",
              "\n",
              "      Daytime/evening attendance\\t  Previous qualification  \\\n",
              "0                              1.0                     1.0   \n",
              "1                              1.0                     1.0   \n",
              "2                              1.0                     1.0   \n",
              "3                              1.0                     1.0   \n",
              "4                              0.0                     1.0   \n",
              "...                            ...                     ...   \n",
              "4555                           1.0                     1.0   \n",
              "4556                           1.0                     1.0   \n",
              "4557                           1.0                     1.0   \n",
              "4558                           1.0                     1.0   \n",
              "4559                           1.0                     1.0   \n",
              "\n",
              "      Previous qualification (grade)  Nacionality  Mother's qualification  \\\n",
              "0                              122.0          1.0                    19.0   \n",
              "1                              160.0          1.0                     1.0   \n",
              "2                              122.0          1.0                    37.0   \n",
              "3                              122.0          1.0                    38.0   \n",
              "4                              100.0          1.0                    37.0   \n",
              "...                              ...          ...                     ...   \n",
              "4555                           125.0          1.0                     1.0   \n",
              "4556                           120.0        105.0                     1.0   \n",
              "4557                           154.0          1.0                    37.0   \n",
              "4558                           180.0          1.0                    37.0   \n",
              "4559                           152.0         22.0                    38.0   \n",
              "\n",
              "      Father's qualification  ...  Curricular units 2nd sem (credited)  \\\n",
              "0                       12.0  ...                                  0.0   \n",
              "1                        3.0  ...                                  0.0   \n",
              "2                       37.0  ...                                  0.0   \n",
              "3                       37.0  ...                                  0.0   \n",
              "4                       38.0  ...                                  0.0   \n",
              "...                      ...  ...                                  ...   \n",
              "4555                     1.0  ...                                  0.0   \n",
              "4556                     1.0  ...                                  0.0   \n",
              "4557                    37.0  ...                                  0.0   \n",
              "4558                    37.0  ...                                  0.0   \n",
              "4559                    37.0  ...                                  0.0   \n",
              "\n",
              "      Curricular units 2nd sem (enrolled)  \\\n",
              "0                                     0.0   \n",
              "1                                     6.0   \n",
              "2                                     6.0   \n",
              "3                                     6.0   \n",
              "4                                     6.0   \n",
              "...                                   ...   \n",
              "4555                                  6.0   \n",
              "4556                                  6.0   \n",
              "4557                                  8.0   \n",
              "4558                                  5.0   \n",
              "4559                                  6.0   \n",
              "\n",
              "      Curricular units 2nd sem (evaluations)  \\\n",
              "0                                        0.0   \n",
              "1                                        6.0   \n",
              "2                                        0.0   \n",
              "3                                       10.0   \n",
              "4                                        6.0   \n",
              "...                                      ...   \n",
              "4555                                     8.0   \n",
              "4556                                     6.0   \n",
              "4557                                     9.0   \n",
              "4558                                     6.0   \n",
              "4559                                     6.0   \n",
              "\n",
              "      Curricular units 2nd sem (approved)  Curricular units 2nd sem (grade)  \\\n",
              "0                                     0.0                          0.000000   \n",
              "1                                     6.0                         13.666667   \n",
              "2                                     0.0                          0.000000   \n",
              "3                                     5.0                         12.400000   \n",
              "4                                     6.0                         13.000000   \n",
              "...                                   ...                               ...   \n",
              "4555                                  5.0                         12.666667   \n",
              "4556                                  2.0                         11.000000   \n",
              "4557                                  1.0                         13.500000   \n",
              "4558                                  5.0                         12.000000   \n",
              "4559                                  6.0                         13.000000   \n",
              "\n",
              "      Curricular units 2nd sem (without evaluations)  Unemployment rate  \\\n",
              "0                                                0.0               10.8   \n",
              "1                                                0.0               13.9   \n",
              "2                                                0.0               10.8   \n",
              "3                                                0.0                9.4   \n",
              "4                                                0.0               13.9   \n",
              "...                                              ...                ...   \n",
              "4555                                             0.0               15.5   \n",
              "4556                                             0.0               11.1   \n",
              "4557                                             0.0               13.9   \n",
              "4558                                             0.0                9.4   \n",
              "4559                                             0.0               12.7   \n",
              "\n",
              "      Inflation rate   GDP    Target  \n",
              "0                1.4  1.74   Dropout  \n",
              "1               -0.3  0.79  Graduate  \n",
              "2                1.4  1.74   Dropout  \n",
              "3               -0.8 -3.12  Graduate  \n",
              "4               -0.3  0.79  Graduate  \n",
              "...              ...   ...       ...  \n",
              "4555             2.8 -4.06  Graduate  \n",
              "4556             0.6  2.02   Dropout  \n",
              "4557            -0.3  0.79   Dropout  \n",
              "4558            -0.8 -3.12  Graduate  \n",
              "4559             3.7 -1.70  Graduate  \n",
              "\n",
              "[4560 rows x 37 columns]"
            ],
            "text/html": [
              "\n",
              "  <div id=\"df-2c7dd181-433d-4fac-a8fa-89190a11ec09\" class=\"colab-df-container\">\n",
              "    <div>\n",
              "<style scoped>\n",
              "    .dataframe tbody tr th:only-of-type {\n",
              "        vertical-align: middle;\n",
              "    }\n",
              "\n",
              "    .dataframe tbody tr th {\n",
              "        vertical-align: top;\n",
              "    }\n",
              "\n",
              "    .dataframe thead th {\n",
              "        text-align: right;\n",
              "    }\n",
              "</style>\n",
              "<table border=\"1\" class=\"dataframe\">\n",
              "  <thead>\n",
              "    <tr style=\"text-align: right;\">\n",
              "      <th></th>\n",
              "      <th>Marital status</th>\n",
              "      <th>Application mode</th>\n",
              "      <th>Application order</th>\n",
              "      <th>Course</th>\n",
              "      <th>Daytime/evening attendance\\t</th>\n",
              "      <th>Previous qualification</th>\n",
              "      <th>Previous qualification (grade)</th>\n",
              "      <th>Nacionality</th>\n",
              "      <th>Mother's qualification</th>\n",
              "      <th>Father's qualification</th>\n",
              "      <th>...</th>\n",
              "      <th>Curricular units 2nd sem (credited)</th>\n",
              "      <th>Curricular units 2nd sem (enrolled)</th>\n",
              "      <th>Curricular units 2nd sem (evaluations)</th>\n",
              "      <th>Curricular units 2nd sem (approved)</th>\n",
              "      <th>Curricular units 2nd sem (grade)</th>\n",
              "      <th>Curricular units 2nd sem (without evaluations)</th>\n",
              "      <th>Unemployment rate</th>\n",
              "      <th>Inflation rate</th>\n",
              "      <th>GDP</th>\n",
              "      <th>Target</th>\n",
              "    </tr>\n",
              "  </thead>\n",
              "  <tbody>\n",
              "    <tr>\n",
              "      <th>0</th>\n",
              "      <td>1</td>\n",
              "      <td>17.0</td>\n",
              "      <td>5.0</td>\n",
              "      <td>171.0</td>\n",
              "      <td>1.0</td>\n",
              "      <td>1.0</td>\n",
              "      <td>122.0</td>\n",
              "      <td>1.0</td>\n",
              "      <td>19.0</td>\n",
              "      <td>12.0</td>\n",
              "      <td>...</td>\n",
              "      <td>0.0</td>\n",
              "      <td>0.0</td>\n",
              "      <td>0.0</td>\n",
              "      <td>0.0</td>\n",
              "      <td>0.000000</td>\n",
              "      <td>0.0</td>\n",
              "      <td>10.8</td>\n",
              "      <td>1.4</td>\n",
              "      <td>1.74</td>\n",
              "      <td>Dropout</td>\n",
              "    </tr>\n",
              "    <tr>\n",
              "      <th>1</th>\n",
              "      <td>1</td>\n",
              "      <td>15.0</td>\n",
              "      <td>1.0</td>\n",
              "      <td>9254.0</td>\n",
              "      <td>1.0</td>\n",
              "      <td>1.0</td>\n",
              "      <td>160.0</td>\n",
              "      <td>1.0</td>\n",
              "      <td>1.0</td>\n",
              "      <td>3.0</td>\n",
              "      <td>...</td>\n",
              "      <td>0.0</td>\n",
              "      <td>6.0</td>\n",
              "      <td>6.0</td>\n",
              "      <td>6.0</td>\n",
              "      <td>13.666667</td>\n",
              "      <td>0.0</td>\n",
              "      <td>13.9</td>\n",
              "      <td>-0.3</td>\n",
              "      <td>0.79</td>\n",
              "      <td>Graduate</td>\n",
              "    </tr>\n",
              "    <tr>\n",
              "      <th>2</th>\n",
              "      <td>1</td>\n",
              "      <td>1.0</td>\n",
              "      <td>5.0</td>\n",
              "      <td>9070.0</td>\n",
              "      <td>1.0</td>\n",
              "      <td>1.0</td>\n",
              "      <td>122.0</td>\n",
              "      <td>1.0</td>\n",
              "      <td>37.0</td>\n",
              "      <td>37.0</td>\n",
              "      <td>...</td>\n",
              "      <td>0.0</td>\n",
              "      <td>6.0</td>\n",
              "      <td>0.0</td>\n",
              "      <td>0.0</td>\n",
              "      <td>0.000000</td>\n",
              "      <td>0.0</td>\n",
              "      <td>10.8</td>\n",
              "      <td>1.4</td>\n",
              "      <td>1.74</td>\n",
              "      <td>Dropout</td>\n",
              "    </tr>\n",
              "    <tr>\n",
              "      <th>3</th>\n",
              "      <td>1</td>\n",
              "      <td>17.0</td>\n",
              "      <td>2.0</td>\n",
              "      <td>9773.0</td>\n",
              "      <td>1.0</td>\n",
              "      <td>1.0</td>\n",
              "      <td>122.0</td>\n",
              "      <td>1.0</td>\n",
              "      <td>38.0</td>\n",
              "      <td>37.0</td>\n",
              "      <td>...</td>\n",
              "      <td>0.0</td>\n",
              "      <td>6.0</td>\n",
              "      <td>10.0</td>\n",
              "      <td>5.0</td>\n",
              "      <td>12.400000</td>\n",
              "      <td>0.0</td>\n",
              "      <td>9.4</td>\n",
              "      <td>-0.8</td>\n",
              "      <td>-3.12</td>\n",
              "      <td>Graduate</td>\n",
              "    </tr>\n",
              "    <tr>\n",
              "      <th>4</th>\n",
              "      <td>2</td>\n",
              "      <td>39.0</td>\n",
              "      <td>1.0</td>\n",
              "      <td>8014.0</td>\n",
              "      <td>0.0</td>\n",
              "      <td>1.0</td>\n",
              "      <td>100.0</td>\n",
              "      <td>1.0</td>\n",
              "      <td>37.0</td>\n",
              "      <td>38.0</td>\n",
              "      <td>...</td>\n",
              "      <td>0.0</td>\n",
              "      <td>6.0</td>\n",
              "      <td>6.0</td>\n",
              "      <td>6.0</td>\n",
              "      <td>13.000000</td>\n",
              "      <td>0.0</td>\n",
              "      <td>13.9</td>\n",
              "      <td>-0.3</td>\n",
              "      <td>0.79</td>\n",
              "      <td>Graduate</td>\n",
              "    </tr>\n",
              "    <tr>\n",
              "      <th>...</th>\n",
              "      <td>...</td>\n",
              "      <td>...</td>\n",
              "      <td>...</td>\n",
              "      <td>...</td>\n",
              "      <td>...</td>\n",
              "      <td>...</td>\n",
              "      <td>...</td>\n",
              "      <td>...</td>\n",
              "      <td>...</td>\n",
              "      <td>...</td>\n",
              "      <td>...</td>\n",
              "      <td>...</td>\n",
              "      <td>...</td>\n",
              "      <td>...</td>\n",
              "      <td>...</td>\n",
              "      <td>...</td>\n",
              "      <td>...</td>\n",
              "      <td>...</td>\n",
              "      <td>...</td>\n",
              "      <td>...</td>\n",
              "      <td>...</td>\n",
              "    </tr>\n",
              "    <tr>\n",
              "      <th>4555</th>\n",
              "      <td>1</td>\n",
              "      <td>1.0</td>\n",
              "      <td>6.0</td>\n",
              "      <td>9773.0</td>\n",
              "      <td>1.0</td>\n",
              "      <td>1.0</td>\n",
              "      <td>125.0</td>\n",
              "      <td>1.0</td>\n",
              "      <td>1.0</td>\n",
              "      <td>1.0</td>\n",
              "      <td>...</td>\n",
              "      <td>0.0</td>\n",
              "      <td>6.0</td>\n",
              "      <td>8.0</td>\n",
              "      <td>5.0</td>\n",
              "      <td>12.666667</td>\n",
              "      <td>0.0</td>\n",
              "      <td>15.5</td>\n",
              "      <td>2.8</td>\n",
              "      <td>-4.06</td>\n",
              "      <td>Graduate</td>\n",
              "    </tr>\n",
              "    <tr>\n",
              "      <th>4556</th>\n",
              "      <td>1</td>\n",
              "      <td>1.0</td>\n",
              "      <td>2.0</td>\n",
              "      <td>9773.0</td>\n",
              "      <td>1.0</td>\n",
              "      <td>1.0</td>\n",
              "      <td>120.0</td>\n",
              "      <td>105.0</td>\n",
              "      <td>1.0</td>\n",
              "      <td>1.0</td>\n",
              "      <td>...</td>\n",
              "      <td>0.0</td>\n",
              "      <td>6.0</td>\n",
              "      <td>6.0</td>\n",
              "      <td>2.0</td>\n",
              "      <td>11.000000</td>\n",
              "      <td>0.0</td>\n",
              "      <td>11.1</td>\n",
              "      <td>0.6</td>\n",
              "      <td>2.02</td>\n",
              "      <td>Dropout</td>\n",
              "    </tr>\n",
              "    <tr>\n",
              "      <th>4557</th>\n",
              "      <td>1</td>\n",
              "      <td>1.0</td>\n",
              "      <td>1.0</td>\n",
              "      <td>9500.0</td>\n",
              "      <td>1.0</td>\n",
              "      <td>1.0</td>\n",
              "      <td>154.0</td>\n",
              "      <td>1.0</td>\n",
              "      <td>37.0</td>\n",
              "      <td>37.0</td>\n",
              "      <td>...</td>\n",
              "      <td>0.0</td>\n",
              "      <td>8.0</td>\n",
              "      <td>9.0</td>\n",
              "      <td>1.0</td>\n",
              "      <td>13.500000</td>\n",
              "      <td>0.0</td>\n",
              "      <td>13.9</td>\n",
              "      <td>-0.3</td>\n",
              "      <td>0.79</td>\n",
              "      <td>Dropout</td>\n",
              "    </tr>\n",
              "    <tr>\n",
              "      <th>4558</th>\n",
              "      <td>1</td>\n",
              "      <td>1.0</td>\n",
              "      <td>1.0</td>\n",
              "      <td>9147.0</td>\n",
              "      <td>1.0</td>\n",
              "      <td>1.0</td>\n",
              "      <td>180.0</td>\n",
              "      <td>1.0</td>\n",
              "      <td>37.0</td>\n",
              "      <td>37.0</td>\n",
              "      <td>...</td>\n",
              "      <td>0.0</td>\n",
              "      <td>5.0</td>\n",
              "      <td>6.0</td>\n",
              "      <td>5.0</td>\n",
              "      <td>12.000000</td>\n",
              "      <td>0.0</td>\n",
              "      <td>9.4</td>\n",
              "      <td>-0.8</td>\n",
              "      <td>-3.12</td>\n",
              "      <td>Graduate</td>\n",
              "    </tr>\n",
              "    <tr>\n",
              "      <th>4559</th>\n",
              "      <td>1</td>\n",
              "      <td>10.0</td>\n",
              "      <td>1.0</td>\n",
              "      <td>9773.0</td>\n",
              "      <td>1.0</td>\n",
              "      <td>1.0</td>\n",
              "      <td>152.0</td>\n",
              "      <td>22.0</td>\n",
              "      <td>38.0</td>\n",
              "      <td>37.0</td>\n",
              "      <td>...</td>\n",
              "      <td>0.0</td>\n",
              "      <td>6.0</td>\n",
              "      <td>6.0</td>\n",
              "      <td>6.0</td>\n",
              "      <td>13.000000</td>\n",
              "      <td>0.0</td>\n",
              "      <td>12.7</td>\n",
              "      <td>3.7</td>\n",
              "      <td>-1.70</td>\n",
              "      <td>Graduate</td>\n",
              "    </tr>\n",
              "  </tbody>\n",
              "</table>\n",
              "<p>4560 rows × 37 columns</p>\n",
              "</div>\n",
              "    <div class=\"colab-df-buttons\">\n",
              "\n",
              "  <div class=\"colab-df-container\">\n",
              "    <button class=\"colab-df-convert\" onclick=\"convertToInteractive('df-2c7dd181-433d-4fac-a8fa-89190a11ec09')\"\n",
              "            title=\"Convert this dataframe to an interactive table.\"\n",
              "            style=\"display:none;\">\n",
              "\n",
              "  <svg xmlns=\"http://www.w3.org/2000/svg\" height=\"24px\" viewBox=\"0 -960 960 960\">\n",
              "    <path d=\"M120-120v-720h720v720H120Zm60-500h600v-160H180v160Zm220 220h160v-160H400v160Zm0 220h160v-160H400v160ZM180-400h160v-160H180v160Zm440 0h160v-160H620v160ZM180-180h160v-160H180v160Zm440 0h160v-160H620v160Z\"/>\n",
              "  </svg>\n",
              "    </button>\n",
              "\n",
              "  <style>\n",
              "    .colab-df-container {\n",
              "      display:flex;\n",
              "      gap: 12px;\n",
              "    }\n",
              "\n",
              "    .colab-df-convert {\n",
              "      background-color: #E8F0FE;\n",
              "      border: none;\n",
              "      border-radius: 50%;\n",
              "      cursor: pointer;\n",
              "      display: none;\n",
              "      fill: #1967D2;\n",
              "      height: 32px;\n",
              "      padding: 0 0 0 0;\n",
              "      width: 32px;\n",
              "    }\n",
              "\n",
              "    .colab-df-convert:hover {\n",
              "      background-color: #E2EBFA;\n",
              "      box-shadow: 0px 1px 2px rgba(60, 64, 67, 0.3), 0px 1px 3px 1px rgba(60, 64, 67, 0.15);\n",
              "      fill: #174EA6;\n",
              "    }\n",
              "\n",
              "    .colab-df-buttons div {\n",
              "      margin-bottom: 4px;\n",
              "    }\n",
              "\n",
              "    [theme=dark] .colab-df-convert {\n",
              "      background-color: #3B4455;\n",
              "      fill: #D2E3FC;\n",
              "    }\n",
              "\n",
              "    [theme=dark] .colab-df-convert:hover {\n",
              "      background-color: #434B5C;\n",
              "      box-shadow: 0px 1px 3px 1px rgba(0, 0, 0, 0.15);\n",
              "      filter: drop-shadow(0px 1px 2px rgba(0, 0, 0, 0.3));\n",
              "      fill: #FFFFFF;\n",
              "    }\n",
              "  </style>\n",
              "\n",
              "    <script>\n",
              "      const buttonEl =\n",
              "        document.querySelector('#df-2c7dd181-433d-4fac-a8fa-89190a11ec09 button.colab-df-convert');\n",
              "      buttonEl.style.display =\n",
              "        google.colab.kernel.accessAllowed ? 'block' : 'none';\n",
              "\n",
              "      async function convertToInteractive(key) {\n",
              "        const element = document.querySelector('#df-2c7dd181-433d-4fac-a8fa-89190a11ec09');\n",
              "        const dataTable =\n",
              "          await google.colab.kernel.invokeFunction('convertToInteractive',\n",
              "                                                    [key], {});\n",
              "        if (!dataTable) return;\n",
              "\n",
              "        const docLinkHtml = 'Like what you see? Visit the ' +\n",
              "          '<a target=\"_blank\" href=https://colab.research.google.com/notebooks/data_table.ipynb>data table notebook</a>'\n",
              "          + ' to learn more about interactive tables.';\n",
              "        element.innerHTML = '';\n",
              "        dataTable['output_type'] = 'display_data';\n",
              "        await google.colab.output.renderOutput(dataTable, element);\n",
              "        const docLink = document.createElement('div');\n",
              "        docLink.innerHTML = docLinkHtml;\n",
              "        element.appendChild(docLink);\n",
              "      }\n",
              "    </script>\n",
              "  </div>\n",
              "\n",
              "\n",
              "<div id=\"df-d2d3c068-38eb-4b3e-b0a3-7ae3cc2d0c87\">\n",
              "  <button class=\"colab-df-quickchart\" onclick=\"quickchart('df-d2d3c068-38eb-4b3e-b0a3-7ae3cc2d0c87')\"\n",
              "            title=\"Suggest charts\"\n",
              "            style=\"display:none;\">\n",
              "\n",
              "<svg xmlns=\"http://www.w3.org/2000/svg\" height=\"24px\"viewBox=\"0 0 24 24\"\n",
              "     width=\"24px\">\n",
              "    <g>\n",
              "        <path d=\"M19 3H5c-1.1 0-2 .9-2 2v14c0 1.1.9 2 2 2h14c1.1 0 2-.9 2-2V5c0-1.1-.9-2-2-2zM9 17H7v-7h2v7zm4 0h-2V7h2v10zm4 0h-2v-4h2v4z\"/>\n",
              "    </g>\n",
              "</svg>\n",
              "  </button>\n",
              "\n",
              "<style>\n",
              "  .colab-df-quickchart {\n",
              "      --bg-color: #E8F0FE;\n",
              "      --fill-color: #1967D2;\n",
              "      --hover-bg-color: #E2EBFA;\n",
              "      --hover-fill-color: #174EA6;\n",
              "      --disabled-fill-color: #AAA;\n",
              "      --disabled-bg-color: #DDD;\n",
              "  }\n",
              "\n",
              "  [theme=dark] .colab-df-quickchart {\n",
              "      --bg-color: #3B4455;\n",
              "      --fill-color: #D2E3FC;\n",
              "      --hover-bg-color: #434B5C;\n",
              "      --hover-fill-color: #FFFFFF;\n",
              "      --disabled-bg-color: #3B4455;\n",
              "      --disabled-fill-color: #666;\n",
              "  }\n",
              "\n",
              "  .colab-df-quickchart {\n",
              "    background-color: var(--bg-color);\n",
              "    border: none;\n",
              "    border-radius: 50%;\n",
              "    cursor: pointer;\n",
              "    display: none;\n",
              "    fill: var(--fill-color);\n",
              "    height: 32px;\n",
              "    padding: 0;\n",
              "    width: 32px;\n",
              "  }\n",
              "\n",
              "  .colab-df-quickchart:hover {\n",
              "    background-color: var(--hover-bg-color);\n",
              "    box-shadow: 0 1px 2px rgba(60, 64, 67, 0.3), 0 1px 3px 1px rgba(60, 64, 67, 0.15);\n",
              "    fill: var(--button-hover-fill-color);\n",
              "  }\n",
              "\n",
              "  .colab-df-quickchart-complete:disabled,\n",
              "  .colab-df-quickchart-complete:disabled:hover {\n",
              "    background-color: var(--disabled-bg-color);\n",
              "    fill: var(--disabled-fill-color);\n",
              "    box-shadow: none;\n",
              "  }\n",
              "\n",
              "  .colab-df-spinner {\n",
              "    border: 2px solid var(--fill-color);\n",
              "    border-color: transparent;\n",
              "    border-bottom-color: var(--fill-color);\n",
              "    animation:\n",
              "      spin 1s steps(1) infinite;\n",
              "  }\n",
              "\n",
              "  @keyframes spin {\n",
              "    0% {\n",
              "      border-color: transparent;\n",
              "      border-bottom-color: var(--fill-color);\n",
              "      border-left-color: var(--fill-color);\n",
              "    }\n",
              "    20% {\n",
              "      border-color: transparent;\n",
              "      border-left-color: var(--fill-color);\n",
              "      border-top-color: var(--fill-color);\n",
              "    }\n",
              "    30% {\n",
              "      border-color: transparent;\n",
              "      border-left-color: var(--fill-color);\n",
              "      border-top-color: var(--fill-color);\n",
              "      border-right-color: var(--fill-color);\n",
              "    }\n",
              "    40% {\n",
              "      border-color: transparent;\n",
              "      border-right-color: var(--fill-color);\n",
              "      border-top-color: var(--fill-color);\n",
              "    }\n",
              "    60% {\n",
              "      border-color: transparent;\n",
              "      border-right-color: var(--fill-color);\n",
              "    }\n",
              "    80% {\n",
              "      border-color: transparent;\n",
              "      border-right-color: var(--fill-color);\n",
              "      border-bottom-color: var(--fill-color);\n",
              "    }\n",
              "    90% {\n",
              "      border-color: transparent;\n",
              "      border-bottom-color: var(--fill-color);\n",
              "    }\n",
              "  }\n",
              "</style>\n",
              "\n",
              "  <script>\n",
              "    async function quickchart(key) {\n",
              "      const quickchartButtonEl =\n",
              "        document.querySelector('#' + key + ' button');\n",
              "      quickchartButtonEl.disabled = true;  // To prevent multiple clicks.\n",
              "      quickchartButtonEl.classList.add('colab-df-spinner');\n",
              "      try {\n",
              "        const charts = await google.colab.kernel.invokeFunction(\n",
              "            'suggestCharts', [key], {});\n",
              "      } catch (error) {\n",
              "        console.error('Error during call to suggestCharts:', error);\n",
              "      }\n",
              "      quickchartButtonEl.classList.remove('colab-df-spinner');\n",
              "      quickchartButtonEl.classList.add('colab-df-quickchart-complete');\n",
              "    }\n",
              "    (() => {\n",
              "      let quickchartButtonEl =\n",
              "        document.querySelector('#df-d2d3c068-38eb-4b3e-b0a3-7ae3cc2d0c87 button');\n",
              "      quickchartButtonEl.style.display =\n",
              "        google.colab.kernel.accessAllowed ? 'block' : 'none';\n",
              "    })();\n",
              "  </script>\n",
              "</div>\n",
              "    </div>\n",
              "  </div>\n"
            ]
          },
          "metadata": {},
          "execution_count": 2
        }
      ],
      "source": [
        "# Define el archivo CSV\n",
        "file_path = '/content/Examen/Academic Success and dropout.csv'\n",
        "\n",
        "# Lee el archivo CSV y usa la primera fila como encabezados\n",
        "df = pd.read_csv(file_path, sep=';', header=0, encoding='utf-8')\n",
        "\n",
        "# Ahora puedes imprimir el DataFrame\n",
        "df"
      ]
    },
    {
      "cell_type": "code",
      "execution_count": 4,
      "id": "764e65b7-f97c-4e38-894d-58d6725f36c8",
      "metadata": {
        "id": "764e65b7-f97c-4e38-894d-58d6725f36c8"
      },
      "outputs": [],
      "source": [
        "df2 = df.copy()\n",
        "#Borra nulos habiendo corroborado que sólo generaban ruido\n",
        "df2 = df2.dropna()\n",
        "\n",
        "#Convierte Marital status a columnas binarias\n",
        "df2_encoded = pd.get_dummies(df2, columns=['Marital status'], prefix=['Marital status'])\n",
        "\n",
        "#df2_encoded = df.drop(columns='Marital status')\n",
        "\n",
        "\n",
        "# Almacenar 'Target' en 'y' y eliminarla antes de almacenarla en X\n",
        "y = df2_encoded['Target']\n",
        "df2_encoded = df2_encoded.drop(columns=['Target'])\n",
        "\n",
        "# Asignar 'df2_encoded' a 'X'\n",
        "X = df2_encoded\n"
      ]
    },
    {
      "cell_type": "code",
      "source": [
        "df2"
      ],
      "metadata": {
        "id": "iFpGaNdnYXHN",
        "outputId": "bdd49cc7-1529-489f-fc8f-e3e2079fbf61",
        "colab": {
          "base_uri": "https://localhost:8080/",
          "height": 443
        }
      },
      "id": "iFpGaNdnYXHN",
      "execution_count": 26,
      "outputs": [
        {
          "output_type": "error",
          "ename": "InvalidIndexError",
          "evalue": "ignored",
          "traceback": [
            "\u001b[0;31m---------------------------------------------------------------------------\u001b[0m",
            "\u001b[0;31mTypeError\u001b[0m                                 Traceback (most recent call last)",
            "\u001b[0;32m/usr/local/lib/python3.10/dist-packages/pandas/core/indexes/base.py\u001b[0m in \u001b[0;36mget_loc\u001b[0;34m(self, key, method, tolerance)\u001b[0m\n\u001b[1;32m   3801\u001b[0m             \u001b[0;32mtry\u001b[0m\u001b[0;34m:\u001b[0m\u001b[0;34m\u001b[0m\u001b[0;34m\u001b[0m\u001b[0m\n\u001b[0;32m-> 3802\u001b[0;31m                 \u001b[0;32mreturn\u001b[0m \u001b[0mself\u001b[0m\u001b[0;34m.\u001b[0m\u001b[0m_engine\u001b[0m\u001b[0;34m.\u001b[0m\u001b[0mget_loc\u001b[0m\u001b[0;34m(\u001b[0m\u001b[0mcasted_key\u001b[0m\u001b[0;34m)\u001b[0m\u001b[0;34m\u001b[0m\u001b[0;34m\u001b[0m\u001b[0m\n\u001b[0m\u001b[1;32m   3803\u001b[0m             \u001b[0;32mexcept\u001b[0m \u001b[0mKeyError\u001b[0m \u001b[0;32mas\u001b[0m \u001b[0merr\u001b[0m\u001b[0;34m:\u001b[0m\u001b[0;34m\u001b[0m\u001b[0;34m\u001b[0m\u001b[0m\n",
            "\u001b[0;32m/usr/local/lib/python3.10/dist-packages/pandas/_libs/index.pyx\u001b[0m in \u001b[0;36mpandas._libs.index.IndexEngine.get_loc\u001b[0;34m()\u001b[0m\n",
            "\u001b[0;32m/usr/local/lib/python3.10/dist-packages/pandas/_libs/index.pyx\u001b[0m in \u001b[0;36mpandas._libs.index.IndexEngine.get_loc\u001b[0;34m()\u001b[0m\n",
            "\u001b[0;31mTypeError\u001b[0m: '(slice(None, 2, None), slice(None, 5, None))' is an invalid key",
            "\nDuring handling of the above exception, another exception occurred:\n",
            "\u001b[0;31mInvalidIndexError\u001b[0m                         Traceback (most recent call last)",
            "\u001b[0;32m<ipython-input-26-a5867227237f>\u001b[0m in \u001b[0;36m<cell line: 1>\u001b[0;34m()\u001b[0m\n\u001b[0;32m----> 1\u001b[0;31m \u001b[0mdf2\u001b[0m\u001b[0;34m[\u001b[0m\u001b[0;34m:\u001b[0m\u001b[0;36m2\u001b[0m\u001b[0;34m,\u001b[0m\u001b[0;34m:\u001b[0m\u001b[0;36m5\u001b[0m\u001b[0;34m]\u001b[0m\u001b[0;34m\u001b[0m\u001b[0;34m\u001b[0m\u001b[0m\n\u001b[0m",
            "\u001b[0;32m/usr/local/lib/python3.10/dist-packages/pandas/core/frame.py\u001b[0m in \u001b[0;36m__getitem__\u001b[0;34m(self, key)\u001b[0m\n\u001b[1;32m   3805\u001b[0m             \u001b[0;32mif\u001b[0m \u001b[0mself\u001b[0m\u001b[0;34m.\u001b[0m\u001b[0mcolumns\u001b[0m\u001b[0;34m.\u001b[0m\u001b[0mnlevels\u001b[0m \u001b[0;34m>\u001b[0m \u001b[0;36m1\u001b[0m\u001b[0;34m:\u001b[0m\u001b[0;34m\u001b[0m\u001b[0;34m\u001b[0m\u001b[0m\n\u001b[1;32m   3806\u001b[0m                 \u001b[0;32mreturn\u001b[0m \u001b[0mself\u001b[0m\u001b[0;34m.\u001b[0m\u001b[0m_getitem_multilevel\u001b[0m\u001b[0;34m(\u001b[0m\u001b[0mkey\u001b[0m\u001b[0;34m)\u001b[0m\u001b[0;34m\u001b[0m\u001b[0;34m\u001b[0m\u001b[0m\n\u001b[0;32m-> 3807\u001b[0;31m             \u001b[0mindexer\u001b[0m \u001b[0;34m=\u001b[0m \u001b[0mself\u001b[0m\u001b[0;34m.\u001b[0m\u001b[0mcolumns\u001b[0m\u001b[0;34m.\u001b[0m\u001b[0mget_loc\u001b[0m\u001b[0;34m(\u001b[0m\u001b[0mkey\u001b[0m\u001b[0;34m)\u001b[0m\u001b[0;34m\u001b[0m\u001b[0;34m\u001b[0m\u001b[0m\n\u001b[0m\u001b[1;32m   3808\u001b[0m             \u001b[0;32mif\u001b[0m \u001b[0mis_integer\u001b[0m\u001b[0;34m(\u001b[0m\u001b[0mindexer\u001b[0m\u001b[0;34m)\u001b[0m\u001b[0;34m:\u001b[0m\u001b[0;34m\u001b[0m\u001b[0;34m\u001b[0m\u001b[0m\n\u001b[1;32m   3809\u001b[0m                 \u001b[0mindexer\u001b[0m \u001b[0;34m=\u001b[0m \u001b[0;34m[\u001b[0m\u001b[0mindexer\u001b[0m\u001b[0;34m]\u001b[0m\u001b[0;34m\u001b[0m\u001b[0;34m\u001b[0m\u001b[0m\n",
            "\u001b[0;32m/usr/local/lib/python3.10/dist-packages/pandas/core/indexes/base.py\u001b[0m in \u001b[0;36mget_loc\u001b[0;34m(self, key, method, tolerance)\u001b[0m\n\u001b[1;32m   3807\u001b[0m                 \u001b[0;31m#  InvalidIndexError. Otherwise we fall through and re-raise\u001b[0m\u001b[0;34m\u001b[0m\u001b[0;34m\u001b[0m\u001b[0m\n\u001b[1;32m   3808\u001b[0m                 \u001b[0;31m#  the TypeError.\u001b[0m\u001b[0;34m\u001b[0m\u001b[0;34m\u001b[0m\u001b[0m\n\u001b[0;32m-> 3809\u001b[0;31m                 \u001b[0mself\u001b[0m\u001b[0;34m.\u001b[0m\u001b[0m_check_indexing_error\u001b[0m\u001b[0;34m(\u001b[0m\u001b[0mkey\u001b[0m\u001b[0;34m)\u001b[0m\u001b[0;34m\u001b[0m\u001b[0;34m\u001b[0m\u001b[0m\n\u001b[0m\u001b[1;32m   3810\u001b[0m                 \u001b[0;32mraise\u001b[0m\u001b[0;34m\u001b[0m\u001b[0;34m\u001b[0m\u001b[0m\n\u001b[1;32m   3811\u001b[0m \u001b[0;34m\u001b[0m\u001b[0m\n",
            "\u001b[0;32m/usr/local/lib/python3.10/dist-packages/pandas/core/indexes/base.py\u001b[0m in \u001b[0;36m_check_indexing_error\u001b[0;34m(self, key)\u001b[0m\n\u001b[1;32m   5923\u001b[0m             \u001b[0;31m# if key is not a scalar, directly raise an error (the code below\u001b[0m\u001b[0;34m\u001b[0m\u001b[0;34m\u001b[0m\u001b[0m\n\u001b[1;32m   5924\u001b[0m             \u001b[0;31m# would convert to numpy arrays and raise later any way) - GH29926\u001b[0m\u001b[0;34m\u001b[0m\u001b[0;34m\u001b[0m\u001b[0m\n\u001b[0;32m-> 5925\u001b[0;31m             \u001b[0;32mraise\u001b[0m \u001b[0mInvalidIndexError\u001b[0m\u001b[0;34m(\u001b[0m\u001b[0mkey\u001b[0m\u001b[0;34m)\u001b[0m\u001b[0;34m\u001b[0m\u001b[0;34m\u001b[0m\u001b[0m\n\u001b[0m\u001b[1;32m   5926\u001b[0m \u001b[0;34m\u001b[0m\u001b[0m\n\u001b[1;32m   5927\u001b[0m     \u001b[0;34m@\u001b[0m\u001b[0mcache_readonly\u001b[0m\u001b[0;34m\u001b[0m\u001b[0;34m\u001b[0m\u001b[0m\n",
            "\u001b[0;31mInvalidIndexError\u001b[0m: (slice(None, 2, None), slice(None, 5, None))"
          ]
        }
      ]
    },
    {
      "cell_type": "code",
      "source": [
        "### VER CUALES HOT ENCODEAR\n",
        "print(df2.nunique().sort_values(ascending=True))\n",
        "Marital status\n",
        "Application order\n",
        "Nacionality"
      ],
      "metadata": {
        "id": "xB6ut6arYHeU",
        "outputId": "9574a30c-0ac5-4afe-d20f-c0aa634b05da",
        "colab": {
          "base_uri": "https://localhost:8080/"
        }
      },
      "id": "xB6ut6arYHeU",
      "execution_count": 6,
      "outputs": [
        {
          "output_type": "stream",
          "name": "stdout",
          "text": [
            "Scholarship holder                                  2\n",
            "International                                       2\n",
            "Gender                                              2\n",
            "Tuition fees up to date                             2\n",
            "Daytime/evening attendance\\t                        2\n",
            "Debtor                                              2\n",
            "Educational special needs                           2\n",
            "Displaced                                           2\n",
            "Target                                              3\n",
            "Marital status                                      6\n",
            "Application order                                   8\n",
            "Inflation rate                                      9\n",
            "Unemployment rate                                  10\n",
            "Curricular units 2nd sem (without evaluations)     10\n",
            "GDP                                                10\n",
            "Curricular units 1st sem (without evaluations)     11\n",
            "Previous qualification                             17\n",
            "Course                                             17\n",
            "Application mode                                   18\n",
            "Curricular units 2nd sem (credited)                19\n",
            "Curricular units 2nd sem (approved)                20\n",
            "Nacionality                                        21\n",
            "Curricular units 1st sem (credited)                21\n",
            "Curricular units 2nd sem (enrolled)                22\n",
            "Curricular units 1st sem (enrolled)                23\n",
            "Curricular units 1st sem (approved)                23\n",
            "Mother's qualification                             29\n",
            "Curricular units 2nd sem (evaluations)             30\n",
            "Mother's occupation                                32\n",
            "Father's qualification                             34\n",
            "Curricular units 1st sem (evaluations)             35\n",
            "Age at enrollment                                  46\n",
            "Father's occupation                                46\n",
            "Previous qualification (grade)                    101\n",
            "Admission grade                                   620\n",
            "Curricular units 2nd sem (grade)                  786\n",
            "Curricular units 1st sem (grade)                  805\n",
            "dtype: int64\n"
          ]
        }
      ]
    },
    {
      "cell_type": "code",
      "execution_count": null,
      "id": "0b2ea735-3a74-4e7f-9824-30e37ce7aa94",
      "metadata": {
        "id": "0b2ea735-3a74-4e7f-9824-30e37ce7aa94"
      },
      "outputs": [],
      "source": [
        "###OPCIONAL\n",
        "#df2 = df.copy()  # Crear un nuevo DataFrame copiando los datos de df\n",
        "# Convertir todos los valores a cadenas (strings)\n",
        "df2['Target'] = df2['Target'].astype(str)\n",
        "# Filtrar las filas que no contienen 'Enrolled' en la columna 'Target'\n",
        "df2 = df2[~df2['Target'].str.contains('Enrolled')]\n",
        "df2"
      ]
    },
    {
      "cell_type": "code",
      "source": [
        "### Normalizar valores (sin Marital status ni Target)\n",
        "# Excluyendo la primera y última columna\n",
        "columnas_a_normalizar = df.columns[1:-1] #Excluye Marital status y Target\n",
        "\n",
        "# Crear un objeto MinMaxScaler\n",
        "scaler = MinMaxScaler()\n",
        "\n",
        "# Normalizar las columnas seleccionadas y almacenar los resultados en df2\n",
        "df2[columnas_a_normalizar] = scaler.fit_transform(df[columnas_a_normalizar])"
      ],
      "metadata": {
        "id": "DEwhsw4k9-gA"
      },
      "id": "DEwhsw4k9-gA",
      "execution_count": null,
      "outputs": []
    },
    {
      "cell_type": "code",
      "source": [
        "y.value_counts()"
      ],
      "metadata": {
        "colab": {
          "base_uri": "https://localhost:8080/"
        },
        "id": "ubdqDs2G0Mob",
        "outputId": "a7bf7f13-bd13-4f45-bf57-d295bda350bb"
      },
      "id": "ubdqDs2G0Mob",
      "execution_count": null,
      "outputs": [
        {
          "output_type": "execute_result",
          "data": {
            "text/plain": [
              "Graduate    2209\n",
              "Dropout     1421\n",
              "Name: Target, dtype: int64"
            ]
          },
          "metadata": {},
          "execution_count": 101
        }
      ]
    },
    {
      "cell_type": "code",
      "source": [
        "\n",
        "\n",
        "# Divide tus datos en conjuntos de entrenamiento y prueba\n",
        "X_train, X_test, y_train, y_test = train_test_split(X, y, test_size=0.3, random_state=42)\n",
        "\n",
        "# Crea un modelo de Árbol de Decisión multilabel\n",
        "decision_tree = DecisionTreeClassifier()\n",
        "\n",
        "# Entrena el modelo en el conjunto de entrenamiento\n",
        "decision_tree.fit(X_train, y_train)\n",
        "\n",
        "# Realiza predicciones en el conjunto de prueba\n",
        "y_pred_tree = decision_tree.predict(X_test)\n",
        "\n",
        "# Crea un modelo de Bosque Aleatorio multilabel\n",
        "random_forest = RandomForestClassifier(max_depth=14, n_estimators=110)\n",
        "\n",
        "\n",
        "# Entrena el modelo en el conjunto de entrenamiento\n",
        "random_forest.fit(X_train, y_train)\n",
        "\n",
        "# Realiza predicciones en el conjunto de prueba\n",
        "y_pred_forest = random_forest.predict(X_test)\n",
        "\n",
        "# Evalúa el rendimiento del Árbol de Decisión en los modos \"micro\", \"macro\" y \"weighted\"\n",
        "accuracy_micro_tree = accuracy_score(y_test, y_pred_tree)\n",
        "precision_micro_tree = precision_score(y_test, y_pred_tree, average='micro')\n",
        "recall_micro_tree = recall_score(y_test, y_pred_tree, average='micro')\n",
        "f1_micro_tree = f1_score(y_test, y_pred_tree, average='micro')\n",
        "\n",
        "precision_macro_tree = precision_score(y_test, y_pred_tree, average='macro')\n",
        "recall_macro_tree = recall_score(y_test, y_pred_tree, average='macro')\n",
        "f1_macro_tree = f1_score(y_test, y_pred_tree, average='macro')\n",
        "\n",
        "precision_weighted_tree = precision_score(y_test, y_pred_tree, average='weighted')\n",
        "recall_weighted_tree = recall_score(y_test, y_pred_tree, average='weighted')\n",
        "f1_weighted_tree = f1_score(y_test, y_pred_tree, average='weighted')\n",
        "\n",
        "# Evalúa el rendimiento del Bosque Aleatorio en los modos \"micro\", \"macro\" y \"weighted\"\n",
        "accuracy_micro_forest = accuracy_score(y_test, y_pred_forest)\n",
        "precision_micro_forest = precision_score(y_test, y_pred_forest, average='micro')\n",
        "recall_micro_forest = recall_score(y_test, y_pred_forest, average='micro')\n",
        "f1_micro_forest = f1_score(y_test, y_pred_forest, average='micro')\n",
        "\n",
        "precision_macro_forest = precision_score(y_test, y_pred_forest, average='macro')\n",
        "recall_macro_forest = recall_score(y_test, y_pred_forest, average='macro')\n",
        "f1_macro_forest = f1_score(y_test, y_pred_forest, average='macro')\n",
        "\n",
        "precision_weighted_forest = precision_score(y_test, y_pred_forest, average='weighted')\n",
        "recall_weighted_forest = recall_score(y_test, y_pred_forest, average='weighted')\n",
        "f1_weighted_forest = f1_score(y_test, y_pred_forest, average='weighted')\n",
        "\n",
        "# Imprime los resultados del Árbol de Decision\n",
        "print(\"Resultados del Árbol de Decision:\")\n",
        "print(\"Modo Micro:\")\n",
        "print(f\"Precision: {precision_micro_tree}\")\n",
        "print(f\"Recall: {recall_micro_tree}\")\n",
        "print(f\"F1-score: {f1_micro_tree}\")\n",
        "print(f\"Exactitud (Accuracy): {accuracy_micro_tree}\")\n",
        "\n",
        "print(\"\\nModo Macro:\")\n",
        "print(f\"Precision: {precision_macro_tree}\")\n",
        "print(f\"Recall: {recall_macro_tree}\")\n",
        "print(f\"F1-score: {f1_macro_tree}\")\n",
        "\n",
        "print(\"\\nModo Weighted:\")\n",
        "print(f\"Precision: {precision_weighted_tree}\")\n",
        "print(f\"Recall: {recall_weighted_tree}\")\n",
        "print(f\"F1-score: {f1_weighted_tree}\")\n",
        "\n",
        "# Imprime los resultados del Bosque Aleatorio\n",
        "print(\"\\nResultados del Bosque Aleatorio:\")\n",
        "print(\"Modo Micro:\")\n",
        "print(f\"Precision: {precision_micro_forest}\")\n",
        "print(f\"Recall: {recall_micro_forest}\")\n",
        "print(f\"F1-score: {f1_micro_forest}\")\n",
        "print(f\"Exactitud (Accuracy): {accuracy_micro_forest}\")\n",
        "\n",
        "print(\"\\nModo Macro:\")\n",
        "print(f\"Precision: {precision_macro_forest}\")\n",
        "print(f\"Recall: {recall_macro_forest}\")\n",
        "print(f\"F1-score: {f1_macro_forest}\")\n",
        "\n",
        "print(\"\\nModo Weighted:\")\n",
        "print(f\"Precision: {precision_weighted_forest}\")\n",
        "print(f\"Recall: {recall_weighted_forest}\")\n",
        "print(f\"F1-score: {f1_weighted_forest}\")\n"
      ],
      "metadata": {
        "id": "5hlI5Ep7UXAp",
        "outputId": "d8d5d5b4-5620-422e-f553-e0c5fcae64fa",
        "colab": {
          "base_uri": "https://localhost:8080/"
        }
      },
      "id": "5hlI5Ep7UXAp",
      "execution_count": null,
      "outputs": [
        {
          "output_type": "stream",
          "name": "stdout",
          "text": [
            "Resultados del Árbol de Decisión:\n",
            "Modo Micro:\n",
            "Precisión: 0.8549127640036731\n",
            "Recall: 0.8549127640036731\n",
            "F1-score: 0.8549127640036731\n",
            "Exactitud (Accuracy): 0.8549127640036731\n",
            "\n",
            "Modo Macro:\n",
            "Precisión: 0.8451819514371295\n",
            "Recall: 0.8488727858293076\n",
            "F1-score: 0.8469090326713644\n",
            "\n",
            "Modo Weighted:\n",
            "Precisión: 0.8558981627445889\n",
            "Recall: 0.8549127640036731\n",
            "F1-score: 0.8552984859955914\n",
            "\n",
            "Resultados del Bosque Aleatorio:\n",
            "Modo Micro:\n",
            "Precisión: 0.9090909090909091\n",
            "Recall: 0.9090909090909091\n",
            "F1-score: 0.9090909090909091\n",
            "Exactitud (Accuracy): 0.9090909090909091\n",
            "\n",
            "Modo Macro:\n",
            "Precisión: 0.9134146341463415\n",
            "Recall: 0.8930434782608696\n",
            "F1-score: 0.9012977382276603\n",
            "\n",
            "Modo Weighted:\n",
            "Precisión: 0.91019955654102\n",
            "Recall: 0.9090909090909091\n",
            "F1-score: 0.9079448545521961\n"
          ]
        }
      ]
    },
    {
      "cell_type": "code",
      "source": [
        "from sklearn.preprocessing import LabelEncoder\n",
        "### CONVERTIR TARGET EN BINARIO\n",
        "# Aplica el LabelEncoder a la columna 'Target', previamente guardada en y\n",
        "label_encoder = LabelEncoder()\n",
        "y_numeric = label_encoder.fit_transform(y)\n",
        "y = y_numeric"
      ],
      "metadata": {
        "id": "YK705rvmR9Jw"
      },
      "id": "YK705rvmR9Jw",
      "execution_count": null,
      "outputs": []
    },
    {
      "cell_type": "code",
      "source": [
        "from sklearn.model_selection import GridSearchCV\n",
        "from sklearn.ensemble import RandomForestClassifier\n",
        "from sklearn.model_selection import train_test_split\n",
        "\n",
        "# Divide los datos en conjuntos de entrenamiento y prueba\n",
        "X_train, X_test, y_train, y_test = train_test_split(X, y, test_size=0.2, random_state=42)\n",
        "\n",
        "# Define una cuadricula de hiperparametros que deseas ajustar\n",
        "param_grid = {\n",
        "    'n_estimators': [90, 100, 110],\n",
        "    'max_depth': [14],\n",
        "    # Agrega mas hiperparametros segun sea necesario\n",
        "}\n",
        "\n",
        "# Crea una instancia del Random Forest Classifier ponderado\n",
        "rf_model = RandomForestClassifier()\n",
        "\n",
        "# Crea un objeto GridSearchCV\n",
        "grid_search = GridSearchCV(rf_model, param_grid, cv=5, scoring='accuracy')\n",
        "\n",
        "# Realiza el grid search en los datos de entrenamiento\n",
        "grid_search.fit(X_train, y_train)\n",
        "\n",
        "# Obtiene los mejores hiperparametros encontrados\n",
        "mejores_hiperparametros = grid_search.best_params_\n",
        "\n",
        "# Evalúa el modelo con los mejores hiperparametros en los datos de prueba\n",
        "modelo_optimizado = grid_search.best_estimator_\n",
        "precision = modelo_optimizado.score(X_test, y_test)\n",
        "\n",
        "print(\"Mejores hiperparametros:\", mejores_hiperparametros)\n",
        "print(\"Precisión en datos de prueba:\", precision)\n"
      ],
      "metadata": {
        "id": "T1g2HA2fVixp"
      },
      "id": "T1g2HA2fVixp",
      "execution_count": null,
      "outputs": []
    },
    {
      "cell_type": "code",
      "source": [
        "from sklearn.linear_model import LogisticRegression\n",
        "from sklearn.metrics import accuracy_score\n",
        "\n",
        "# Dividir los datos en conjuntos de entrenamiento y prueba\n",
        "X_train, X_test, y_train, y_test = train_test_split(X, y, test_size=0.2, random_state=42)\n",
        "\n",
        "# Crear un modelo de regresion logística\n",
        "model = LogisticRegression()\n",
        "model = LogisticRegression(solver='saga')\n",
        "# Entrenar el modelo con los datos de entrenamiento\n",
        "model.fit(X_train, y_train)\n",
        "\n",
        "# Realizar predicciones en los datos de prueba\n",
        "y_pred = model.predict(X_test)\n",
        "\n",
        "# Calcular la precision del modelo\n",
        "accuracy = accuracy_score(y_test, y_pred)\n",
        "\n",
        "print(\"Precision del modelo:\", accuracy)\n"
      ],
      "metadata": {
        "id": "cKUiE6cLRyev",
        "outputId": "c6c4123d-eca5-4ad4-9b0d-7dbeea741bfb",
        "colab": {
          "base_uri": "https://localhost:8080/"
        }
      },
      "id": "cKUiE6cLRyev",
      "execution_count": null,
      "outputs": [
        {
          "output_type": "stream",
          "name": "stdout",
          "text": [
            "Precisión del modelo: 0.6831955922865014\n"
          ]
        },
        {
          "output_type": "stream",
          "name": "stderr",
          "text": [
            "/usr/local/lib/python3.10/dist-packages/sklearn/linear_model/_sag.py:350: ConvergenceWarning: The max_iter was reached which means the coef_ did not converge\n",
            "  warnings.warn(\n"
          ]
        }
      ]
    },
    {
      "cell_type": "code",
      "execution_count": null,
      "id": "e9660757-115c-450a-9052-d95203d76488",
      "metadata": {
        "tags": [],
        "id": "e9660757-115c-450a-9052-d95203d76488"
      },
      "outputs": [],
      "source": [
        "param_archivos = [\n",
        "    {'archivos': ['/content/Examen/nation.csv'], 'sep': '-'},\n",
        "    {'archivos': ['/content/Examen/education.csv', '/content/Examen/father educ.csv'], 'sep': '\\t'},\n",
        "    {'archivos': ['/content/Examen/course.csv',\n",
        "                  '/content/Examen/mother educ.csv',\n",
        "                  '/content/Examen/father educ.csv',\n",
        "                  '/content/Examen/marital.csv',\n",
        "                  '/content/Examen/marital.csv'], 'sep': ';'},\n",
        "    {'archivos': ['/content/Examen/application.csv'], 'sep': ','}\n",
        "]\n"
      ]
    },
    {
      "cell_type": "markdown",
      "id": "21e9af32-16f1-4e47-92fa-a0488ed710d4",
      "metadata": {
        "id": "21e9af32-16f1-4e47-92fa-a0488ed710d4"
      },
      "source": [
        "## Preparación y análisis de datos (EDA)"
      ]
    },
    {
      "cell_type": "code",
      "execution_count": null,
      "id": "b4423da5-39b1-43b5-b28d-fb659a014e17",
      "metadata": {
        "id": "b4423da5-39b1-43b5-b28d-fb659a014e17",
        "outputId": "f8c474bf-9f7f-439c-8aed-1e80e0fc60f0",
        "colab": {
          "base_uri": "https://localhost:8080/"
        }
      },
      "outputs": [
        {
          "output_type": "execute_result",
          "data": {
            "text/plain": [
              "array([0, 2, 0, ..., 0, 2, 2])"
            ]
          },
          "metadata": {},
          "execution_count": 62
        }
      ],
      "source": []
    },
    {
      "cell_type": "code",
      "execution_count": null,
      "id": "1b90af79-42b8-4de9-a3bd-a917fce3d0a6",
      "metadata": {
        "id": "1b90af79-42b8-4de9-a3bd-a917fce3d0a6"
      },
      "outputs": [],
      "source": []
    },
    {
      "cell_type": "code",
      "execution_count": null,
      "id": "ae7a635a-687d-4e16-8a3a-d706d783ca89",
      "metadata": {
        "id": "ae7a635a-687d-4e16-8a3a-d706d783ca89"
      },
      "outputs": [],
      "source": []
    },
    {
      "cell_type": "markdown",
      "id": "b59b8f7a-66ea-4bfb-a95f-5c50d91d295d",
      "metadata": {
        "tags": [],
        "id": "b59b8f7a-66ea-4bfb-a95f-5c50d91d295d"
      },
      "source": [
        "## Data split"
      ]
    },
    {
      "cell_type": "code",
      "execution_count": null,
      "id": "21540ace-cb24-418d-9b31-22012307e15e",
      "metadata": {
        "id": "21540ace-cb24-418d-9b31-22012307e15e"
      },
      "outputs": [],
      "source": []
    },
    {
      "cell_type": "code",
      "execution_count": null,
      "id": "9c53a61b-4c45-4b18-a838-4907217153ac",
      "metadata": {
        "id": "9c53a61b-4c45-4b18-a838-4907217153ac"
      },
      "outputs": [],
      "source": []
    },
    {
      "cell_type": "code",
      "execution_count": null,
      "id": "d09b055a-72f9-4763-bc78-0f0573f474d3",
      "metadata": {
        "id": "d09b055a-72f9-4763-bc78-0f0573f474d3"
      },
      "outputs": [],
      "source": []
    },
    {
      "cell_type": "markdown",
      "id": "6595d1de-25f4-46a7-bae6-fdb8c81aeb31",
      "metadata": {
        "id": "6595d1de-25f4-46a7-bae6-fdb8c81aeb31"
      },
      "source": [
        "## Selección de atributos"
      ]
    },
    {
      "cell_type": "code",
      "execution_count": null,
      "id": "f2bca906-d53b-4ef0-be51-ce6d75eba78e",
      "metadata": {
        "id": "f2bca906-d53b-4ef0-be51-ce6d75eba78e"
      },
      "outputs": [],
      "source": []
    },
    {
      "cell_type": "code",
      "execution_count": null,
      "id": "4c407d8d-098a-4c31-a1a0-084a32eb4a12",
      "metadata": {
        "id": "4c407d8d-098a-4c31-a1a0-084a32eb4a12"
      },
      "outputs": [],
      "source": []
    },
    {
      "cell_type": "code",
      "execution_count": null,
      "id": "c4dd6971-07a0-41c4-8f53-5a880e9204a4",
      "metadata": {
        "id": "c4dd6971-07a0-41c4-8f53-5a880e9204a4"
      },
      "outputs": [],
      "source": []
    },
    {
      "cell_type": "markdown",
      "id": "a53ee563-2057-4743-b046-bdeeeffbc68b",
      "metadata": {
        "id": "a53ee563-2057-4743-b046-bdeeeffbc68b"
      },
      "source": [
        "## Estandarización"
      ]
    },
    {
      "cell_type": "code",
      "execution_count": null,
      "id": "c807ab0e-bb52-4224-b177-63c5e850f947",
      "metadata": {
        "id": "c807ab0e-bb52-4224-b177-63c5e850f947"
      },
      "outputs": [],
      "source": []
    },
    {
      "cell_type": "code",
      "execution_count": null,
      "id": "ceca78a6-9e1c-4a3f-a1a5-e5fef75bfb56",
      "metadata": {
        "id": "ceca78a6-9e1c-4a3f-a1a5-e5fef75bfb56"
      },
      "outputs": [],
      "source": []
    },
    {
      "cell_type": "code",
      "execution_count": null,
      "id": "17b6e9fb-e3a6-4f1e-bd58-443ab90de03f",
      "metadata": {
        "id": "17b6e9fb-e3a6-4f1e-bd58-443ab90de03f"
      },
      "outputs": [],
      "source": []
    },
    {
      "cell_type": "markdown",
      "id": "c03a8a38-03ef-443a-86c8-1a6635a91ce8",
      "metadata": {
        "tags": [],
        "id": "c03a8a38-03ef-443a-86c8-1a6635a91ce8"
      },
      "source": [
        "## Cross-Validation"
      ]
    },
    {
      "cell_type": "code",
      "execution_count": null,
      "id": "a33cb93b-24ba-46d6-8aa7-e80cde893344",
      "metadata": {
        "id": "a33cb93b-24ba-46d6-8aa7-e80cde893344"
      },
      "outputs": [],
      "source": []
    },
    {
      "cell_type": "code",
      "execution_count": null,
      "id": "ad779dff-e655-47d2-bac1-2006b2586d44",
      "metadata": {
        "id": "ad779dff-e655-47d2-bac1-2006b2586d44"
      },
      "outputs": [],
      "source": []
    },
    {
      "cell_type": "code",
      "execution_count": null,
      "id": "e36dc299-a991-4ed1-9a1f-17f51cbf279c",
      "metadata": {
        "id": "e36dc299-a991-4ed1-9a1f-17f51cbf279c"
      },
      "outputs": [],
      "source": []
    },
    {
      "cell_type": "markdown",
      "id": "2139337b-6068-470c-a74d-c209345e061d",
      "metadata": {
        "tags": [],
        "id": "2139337b-6068-470c-a74d-c209345e061d"
      },
      "source": [
        "## Entrenamiento modelo definitivo"
      ]
    },
    {
      "cell_type": "code",
      "execution_count": null,
      "id": "adf80e20-dd02-4ee9-ba7f-40255d35a537",
      "metadata": {
        "id": "adf80e20-dd02-4ee9-ba7f-40255d35a537"
      },
      "outputs": [],
      "source": []
    },
    {
      "cell_type": "code",
      "execution_count": null,
      "id": "6be2feed-529a-4cf0-80df-cfef1858d490",
      "metadata": {
        "id": "6be2feed-529a-4cf0-80df-cfef1858d490"
      },
      "outputs": [],
      "source": []
    },
    {
      "cell_type": "code",
      "execution_count": null,
      "id": "14a080d2-708d-4258-81bb-72cf51801476",
      "metadata": {
        "id": "14a080d2-708d-4258-81bb-72cf51801476"
      },
      "outputs": [],
      "source": []
    },
    {
      "cell_type": "markdown",
      "id": "ed5e561e-974e-4d5a-a054-19e71122d1e4",
      "metadata": {
        "tags": [],
        "id": "ed5e561e-974e-4d5a-a054-19e71122d1e4"
      },
      "source": [
        "## Evaluación modelo"
      ]
    },
    {
      "cell_type": "code",
      "execution_count": null,
      "id": "cc231f73-0b62-42ac-b326-6c09369ec887",
      "metadata": {
        "id": "cc231f73-0b62-42ac-b326-6c09369ec887"
      },
      "outputs": [],
      "source": []
    },
    {
      "cell_type": "code",
      "execution_count": null,
      "id": "16023b0d-fa11-457c-b803-aada6d6516cd",
      "metadata": {
        "id": "16023b0d-fa11-457c-b803-aada6d6516cd"
      },
      "outputs": [],
      "source": []
    },
    {
      "cell_type": "code",
      "execution_count": null,
      "id": "e200aa09-3ff9-494f-9ebc-bc55afc0d898",
      "metadata": {
        "id": "e200aa09-3ff9-494f-9ebc-bc55afc0d898"
      },
      "outputs": [],
      "source": []
    },
    {
      "cell_type": "markdown",
      "id": "51cf63b6-2fc7-4f40-ba10-acb6b4e6352d",
      "metadata": {
        "id": "51cf63b6-2fc7-4f40-ba10-acb6b4e6352d"
      },
      "source": [
        "## Conclusiones"
      ]
    },
    {
      "cell_type": "markdown",
      "id": "4c5c0f35-7a89-495e-a889-5c018b6666b1",
      "metadata": {
        "id": "4c5c0f35-7a89-495e-a889-5c018b6666b1"
      },
      "source": []
    },
    {
      "cell_type": "code",
      "execution_count": null,
      "id": "c07b46a0-fc2a-44d6-b2e5-80e0b9f49722",
      "metadata": {
        "id": "c07b46a0-fc2a-44d6-b2e5-80e0b9f49722"
      },
      "outputs": [],
      "source": []
    }
  ],
  "metadata": {
    "kernelspec": {
      "display_name": "Python 3 (ipykernel)",
      "language": "python",
      "name": "python3"
    },
    "language_info": {
      "codemirror_mode": {
        "name": "ipython",
        "version": 3
      },
      "file_extension": ".py",
      "mimetype": "text/x-python",
      "name": "python",
      "nbconvert_exporter": "python",
      "pygments_lexer": "ipython3",
      "version": "3.11.1"
    },
    "colab": {
      "provenance": [],
      "include_colab_link": true
    }
  },
  "nbformat": 4,
  "nbformat_minor": 5
}